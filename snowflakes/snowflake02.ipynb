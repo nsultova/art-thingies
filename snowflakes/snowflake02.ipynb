{
 "cells": [
  {
   "cell_type": "code",
   "execution_count": 31,
   "metadata": {},
   "outputs": [],
   "source": [
    "import numpy as np\n",
    "import matplotlib.pyplot as plt\n",
    "import random"
   ]
  },
  {
   "cell_type": "code",
   "execution_count": 32,
   "metadata": {},
   "outputs": [],
   "source": [
    "sym_num = 6\n",
    "variance_angle = 1\n",
    "radius = 200\n",
    "end_len = 3\n",
    "branches = []\n",
    "width = 800\n",
    "height = 600\n",
    "\n"
   ]
  },
  {
   "cell_type": "code",
   "execution_count": 33,
   "metadata": {},
   "outputs": [
    {
     "name": "stdout",
     "output_type": "stream",
     "text": [
      "hello\n",
      "hello2\n",
      "hello\n",
      "hello2\n",
      "hello\n"
     ]
    },
    {
     "ename": "TypeError",
     "evalue": "'NoneType' object is not iterable",
     "output_type": "error",
     "traceback": [
      "\u001b[0;31m---------------------------------------------------------------------------\u001b[0m",
      "\u001b[0;31mTypeError\u001b[0m                                 Traceback (most recent call last)",
      "\u001b[1;32m/home/nea/Projects/art_thingies/snowflakes/snowflake02.ipynb Cell 3\u001b[0m line \u001b[0;36m2\n\u001b[1;32m     <a href='vscode-notebook-cell:/home/nea/Projects/art_thingies/snowflakes/snowflake02.ipynb#W6sZmlsZQ%3D%3D?line=24'>25</a>\u001b[0m length \u001b[39m=\u001b[39m \u001b[39m10\u001b[39m\n\u001b[1;32m     <a href='vscode-notebook-cell:/home/nea/Projects/art_thingies/snowflakes/snowflake02.ipynb#W6sZmlsZQ%3D%3D?line=25'>26</a>\u001b[0m angle \u001b[39m=\u001b[39m \u001b[39m45\u001b[39m\n\u001b[0;32m---> <a href='vscode-notebook-cell:/home/nea/Projects/art_thingies/snowflakes/snowflake02.ipynb#W6sZmlsZQ%3D%3D?line=27'>28</a>\u001b[0m generateBranch(origin, length, angle)\n",
      "\u001b[1;32m/home/nea/Projects/art_thingies/snowflakes/snowflake02.ipynb Cell 3\u001b[0m line \u001b[0;36m1\n\u001b[1;32m      <a href='vscode-notebook-cell:/home/nea/Projects/art_thingies/snowflakes/snowflake02.ipynb#W6sZmlsZQ%3D%3D?line=8'>9</a>\u001b[0m origin_x, origin_y \u001b[39m=\u001b[39m origin\n\u001b[1;32m     <a href='vscode-notebook-cell:/home/nea/Projects/art_thingies/snowflakes/snowflake02.ipynb#W6sZmlsZQ%3D%3D?line=9'>10</a>\u001b[0m angle_rad \u001b[39m=\u001b[39m np\u001b[39m.\u001b[39mradians(angle)\n\u001b[0;32m---> <a href='vscode-notebook-cell:/home/nea/Projects/art_thingies/snowflakes/snowflake02.ipynb#W6sZmlsZQ%3D%3D?line=11'>12</a>\u001b[0m tmp\u001b[39m.\u001b[39mextend(generateBranch(np\u001b[39m.\u001b[39;49marray([\u001b[39m0\u001b[39;49m, \u001b[39m0\u001b[39;49m]), length \u001b[39m/\u001b[39;49m \u001b[39m2\u001b[39;49m, \u001b[39m0\u001b[39;49m))\n\u001b[1;32m     <a href='vscode-notebook-cell:/home/nea/Projects/art_thingies/snowflakes/snowflake02.ipynb#W6sZmlsZQ%3D%3D?line=12'>13</a>\u001b[0m tmp\u001b[39m.\u001b[39mextend(generateBranch(np\u001b[39m.\u001b[39marray([length, \u001b[39m0\u001b[39m]), length \u001b[39m/\u001b[39m \u001b[39m2\u001b[39m, \u001b[39m0\u001b[39m))\n\u001b[1;32m     <a href='vscode-notebook-cell:/home/nea/Projects/art_thingies/snowflakes/snowflake02.ipynb#W6sZmlsZQ%3D%3D?line=13'>14</a>\u001b[0m tmp\u001b[39m.\u001b[39mextend( generateBranch(np\u001b[39m.\u001b[39marray([length \u001b[39m/\u001b[39m \u001b[39m2\u001b[39m, \u001b[39m0\u001b[39m]), length \u001b[39m/\u001b[39m \u001b[39m2\u001b[39m, \u001b[39m-\u001b[39mrandomAngle))\n",
      "\u001b[1;32m/home/nea/Projects/art_thingies/snowflakes/snowflake02.ipynb Cell 3\u001b[0m line \u001b[0;36m1\n\u001b[1;32m      <a href='vscode-notebook-cell:/home/nea/Projects/art_thingies/snowflakes/snowflake02.ipynb#W6sZmlsZQ%3D%3D?line=8'>9</a>\u001b[0m origin_x, origin_y \u001b[39m=\u001b[39m origin\n\u001b[1;32m     <a href='vscode-notebook-cell:/home/nea/Projects/art_thingies/snowflakes/snowflake02.ipynb#W6sZmlsZQ%3D%3D?line=9'>10</a>\u001b[0m angle_rad \u001b[39m=\u001b[39m np\u001b[39m.\u001b[39mradians(angle)\n\u001b[0;32m---> <a href='vscode-notebook-cell:/home/nea/Projects/art_thingies/snowflakes/snowflake02.ipynb#W6sZmlsZQ%3D%3D?line=11'>12</a>\u001b[0m tmp\u001b[39m.\u001b[39;49mextend(generateBranch(np\u001b[39m.\u001b[39;49marray([\u001b[39m0\u001b[39;49m, \u001b[39m0\u001b[39;49m]), length \u001b[39m/\u001b[39;49m \u001b[39m2\u001b[39;49m, \u001b[39m0\u001b[39;49m))\n\u001b[1;32m     <a href='vscode-notebook-cell:/home/nea/Projects/art_thingies/snowflakes/snowflake02.ipynb#W6sZmlsZQ%3D%3D?line=12'>13</a>\u001b[0m tmp\u001b[39m.\u001b[39mextend(generateBranch(np\u001b[39m.\u001b[39marray([length, \u001b[39m0\u001b[39m]), length \u001b[39m/\u001b[39m \u001b[39m2\u001b[39m, \u001b[39m0\u001b[39m))\n\u001b[1;32m     <a href='vscode-notebook-cell:/home/nea/Projects/art_thingies/snowflakes/snowflake02.ipynb#W6sZmlsZQ%3D%3D?line=13'>14</a>\u001b[0m tmp\u001b[39m.\u001b[39mextend( generateBranch(np\u001b[39m.\u001b[39marray([length \u001b[39m/\u001b[39m \u001b[39m2\u001b[39m, \u001b[39m0\u001b[39m]), length \u001b[39m/\u001b[39m \u001b[39m2\u001b[39m, \u001b[39m-\u001b[39mrandomAngle))\n",
      "\u001b[0;31mTypeError\u001b[0m: 'NoneType' object is not iterable"
     ]
    }
   ],
   "source": [
    "def generateBranch(origin, length, angle):\n",
    "    print(\"hello\")\n",
    "    if length < end_len:\n",
    "       return\n",
    "    \n",
    "    print(\"hello2\")\n",
    "    tmp = []\n",
    "    randomAngle = random.uniform(0, np.pi / variance_angle)\n",
    "    origin_x, origin_y = origin\n",
    "    angle_rad = np.radians(angle)\n",
    "\n",
    "    tmp.extend(generateBranch(np.array([0, 0]), length / 2, 0))\n",
    "    tmp.extend(generateBranch(np.array([length, 0]), length / 2, 0))\n",
    "    tmp.extend( generateBranch(np.array([length / 2, 0]), length / 2, -randomAngle))\n",
    "    tmp.extend(generateBranch(np.array([length / 2, 0]), length / 2, randomAngle))\n",
    "\n",
    "    tmp.append(origin)\n",
    "    tmp.append(np.array([length,0]))\n",
    "\n",
    "    print(f\"TMP: {tmp}\")\n",
    "    return []\n",
    "\n",
    "\n",
    "origin = np.array([0, 0])\n",
    "length = 10\n",
    "angle = 45\n",
    "\n",
    "generateBranch(origin, length, angle)\n"
   ]
  },
  {
   "cell_type": "code",
   "execution_count": null,
   "metadata": {},
   "outputs": [
    {
     "name": "stdout",
     "output_type": "stream",
     "text": [
      "None\n"
     ]
    }
   ],
   "source": [
    "print(arr)"
   ]
  }
 ],
 "metadata": {
  "kernelspec": {
   "display_name": "art-thingies-9EnFxVh2-py3.11",
   "language": "python",
   "name": "python3"
  },
  "language_info": {
   "codemirror_mode": {
    "name": "ipython",
    "version": 3
   },
   "file_extension": ".py",
   "mimetype": "text/x-python",
   "name": "python",
   "nbconvert_exporter": "python",
   "pygments_lexer": "ipython3",
   "version": "3.11.6"
  }
 },
 "nbformat": 4,
 "nbformat_minor": 2
}
