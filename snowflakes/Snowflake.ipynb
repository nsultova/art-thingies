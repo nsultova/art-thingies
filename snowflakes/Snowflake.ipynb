{
 "cells": [
  {
   "cell_type": "markdown",
   "metadata": {
    "slideshow": {
     "slide_type": "skip"
    }
   },
   "source": [
    "# Gravner-Griffeath Snowflakes\n",
    "\n",
    "Simulating snowflake growth based on the algorithm presented in:"
   ]
  },
  {
   "cell_type": "markdown",
   "metadata": {
    "slideshow": {
     "slide_type": "slide"
    }
   },
   "source": [
    "[Modeling Snow Crystal Growth II: A mesoscopic lattice map with plausible dynamics.](http://psoup.math.wisc.edu/papers/h2l.pdf)  \n",
    "Janko Gravner & David Griffeath (2007) - [doi:10.1016/j.physd.2007.09.008](http://dx.doi.org/10.1016/j.physd.2007.09.008)."
   ]
  },
  {
   "cell_type": "markdown",
   "metadata": {
    "slideshow": {
     "slide_type": "fragment"
    }
   },
   "source": [
    "#### Abstract \n",
    "We present a local lattice model for the evolution of snow crystals that combines diffusion-limited aggregation with anisotropic attachment kinetics and an idealized quasi-liquid layer."
   ]
  },
  {
   "cell_type": "markdown",
   "metadata": {
    "slideshow": {
     "slide_type": "fragment"
    }
   },
   "source": [
    "#### Alternative Abstract\n",
    "If you squint hard enough, snowflakes look like Conway's Game of Life."
   ]
  },
  {
   "cell_type": "code",
   "execution_count": 3,
   "metadata": {
    "slideshow": {
     "slide_type": "subslide"
    }
   },
   "outputs": [
    {
     "name": "stderr",
     "output_type": "stream",
     "text": [
      "/tmp/ipykernel_86874/3294604615.py:4: DeprecationWarning: Please use `affine_transform` from the `scipy.ndimage` namespace, the `scipy.ndimage.interpolation` namespace is deprecated.\n",
      "  from scipy.ndimage.interpolation import affine_transform\n"
     ]
    }
   ],
   "source": [
    "import time\n",
    "import numpy as np\n",
    "from scipy.signal import convolve2d\n",
    "from scipy.ndimage.interpolation import affine_transform\n",
    "import matplotlib.pyplot as plt\n",
    "from matplotlib.colors import LinearSegmentedColormap\n",
    "\n",
    "\n",
    "def convolve(array, kernel):\n",
    "    return convolve2d(array, kernel, boundary='symm', mode='same')"
   ]
  },
  {
   "cell_type": "markdown",
   "metadata": {
    "slideshow": {
     "slide_type": "slide"
    }
   },
   "source": [
    "## The grid\n",
    "\n",
    "Our simulation takes place on a hexagonal grid. We need to assigning each \"site\" in that grid a 2D coordinate, so that we can store the grid in an array.\n",
    "\n",
    "There are [multiple coordinate systems for hexagonal grids](https://www.redblobgames.com/grids/hexagons/#coordinates), each with different tradeoffs. We're going to use \"axial coordinates\", which are just cartesian coordinates with the y axis rotated 30°.\n",
    "\n",
    "![Axial Coordinates](images/coordinates.png)"
   ]
  },
  {
   "cell_type": "markdown",
   "metadata": {
    "slideshow": {
     "slide_type": "slide"
    }
   },
   "source": [
    "## Neighbours on hex grids\n",
    "\n",
    "  \n",
    "![Hexagonal Neighbours](images/neighbours.png)\n",
    "\n",
    "There are two sites which are neighbours of (0,0) on a square grid but not on a hexagonal grid: (1,1) and (-1,-1).\n",
    "\n",
    "It turns out that ignoring those two sites when looking for neighbours is the only important difference between simulating square and hexagonal cellular automata."
   ]
  },
  {
   "cell_type": "code",
   "execution_count": 4,
   "metadata": {
    "slideshow": {
     "slide_type": "-"
    }
   },
   "outputs": [],
   "source": [
    "# Construct a 3*3 array containing 1's for the centre site and all of its\n",
    "# neighbours in a hex grid. 0's for sites which are not neighbours.\n",
    "neighbourhood = np.full((3,3), 1)\n",
    "neighbourhood[0,0] = 0\n",
    "neighbourhood[2,2] = 0"
   ]
  },
  {
   "cell_type": "markdown",
   "metadata": {
    "slideshow": {
     "slide_type": "slide"
    }
   },
   "source": [
    "## The state\n",
    "\n",
    "In GoL there is a single bit of state for each site. The site is either alive (1) or dead (0).\n",
    "\n",
    "Our snowflake algorithm keeps track of 4 variables for each site:\n",
    "- \"Is this site part of the snowflake?\"\n",
    "- Mass of ice present in the site\n",
    "- Mass of liquid water present in the site\n",
    "- Mass of water vapour in the site\n",
    "\n",
    "The first of those is a boolean. The three masses are small positive floating point numbers."
   ]
  },
  {
   "cell_type": "markdown",
   "metadata": {
    "slideshow": {
     "slide_type": "fragment"
    }
   },
   "source": [
    "In the paper those variables are given the following names:\n",
    "\n",
    "- attachment - \"Is this site part of the snowflake?\"\n",
    "- crystal mass - ice \n",
    "- boundary mass - liquid water\n",
    "- diffusing mass - water vapour\n",
    "\n",
    "In a stunning \"coincidence\" this allows them to use the abbreviations: a,b,c,d"
   ]
  },
  {
   "cell_type": "markdown",
   "metadata": {
    "slideshow": {
     "slide_type": "slide"
    }
   },
   "source": [
    "## Initial state\n",
    "\n",
    "At the start of the algorithm there is a single site in the centre of the grid which acts as a seed for the flake:\n",
    "- a = True (attached)\n",
    "- c = 1.0 (ice mass = 1)\n",
    "- b = d = 0.0 (no water or vapour mass)\n",
    "\n",
    "Every other site in the grid is filled with a configurable amount of water vapour. We'll call this initial water vapour density **ρ** (rho):\n",
    "- a = False (not attached)\n",
    "- d = **ρ** (configurable amount of water vapour)\n",
    "- b = c = 0.0 (no water or ice mass)"
   ]
  },
  {
   "cell_type": "code",
   "execution_count": 5,
   "metadata": {
    "slideshow": {
     "slide_type": "subslide"
    }
   },
   "outputs": [],
   "source": [
    "def initial_state(size, rho):\n",
    "    \"\"\" Create the initial state of the simulation.\n",
    "    \n",
    "    The return value is 4 2D `size`*`size` numpy arrays.\n",
    "    \"\"\"\n",
    "    # Fill the grid with `rho` water vapour \n",
    "    a = np.full((size,size), False)\n",
    "    b = np.full((size,size), 0.0)\n",
    "    c = np.full((size,size), 0.0)\n",
    "    d = np.full((size,size), rho) \n",
    "    \n",
    "    # Create the snowflake seed in the middle of the grid\n",
    "    midpoint = size//2\n",
    "    a[midpoint,midpoint] = True\n",
    "    c[midpoint,midpoint] = 1\n",
    "    d[midpoint,midpoint] = 0\n",
    "    \n",
    "    return (a,b,c,d)"
   ]
  },
  {
   "cell_type": "markdown",
   "metadata": {
    "slideshow": {
     "slide_type": "slide"
    }
   },
   "source": [
    "## Boundary layer\n",
    "\n",
    "At various points in the simulation, interesting stuff happens at the boundary of the crystal.\n",
    "\n",
    "This \"boundary layer\" is defined as sites which are not attached to the crystal (a=0) but which have one or more neighbours which are attached (a=1)."
   ]
  },
  {
   "cell_type": "code",
   "execution_count": 6,
   "metadata": {},
   "outputs": [],
   "source": [
    "boundary_kernel = neighbourhood.copy()\n",
    "boundary_kernel[1,1]= -7\n",
    "\n",
    "def get_boundary(a):\n",
    "    neighbours = convolve(a, boundary_kernel)\n",
    "    np.clip(neighbours, 0, 7, neighbours)\n",
    "    boundary = np.clip(neighbours, 0, 1)\n",
    "    return (boundary, neighbours)"
   ]
  },
  {
   "cell_type": "markdown",
   "metadata": {
    "slideshow": {
     "slide_type": "slide"
    }
   },
   "source": [
    "## The algorithm\n",
    "\n",
    "Each generation of the algorithm is divided into 4 or 5 sub-steps representing different physical processes acting on the snowflake. These steps are all done in-order in every generation of the simulation.\n",
    "\n",
    "1. Diffusion\n",
    "2. Freezing\n",
    "3. Attachment\n",
    "4. Melting\n",
    "5. Noise (optional)\n",
    "\n",
    "I have not implemented the noise step. If implemented it would act to make the algorithm non-deterministic and the snowflakes non-symmetrical."
   ]
  },
  {
   "cell_type": "markdown",
   "metadata": {
    "slideshow": {
     "slide_type": "slide"
    }
   },
   "source": [
    "## The parameters\n",
    "\n",
    "Without the noise step the algorithm is entirely deterministic and the shape of the final snowflake depends only on:\n",
    "- the size of the grid\n",
    "- the number of generations the simulation is run for\n",
    "- 7 numeric parameters: **ρ** (rho), **κ** (kappa), **β** (beta), **α** (alpha), **θ** (theta), **μ** (mu) and **γ** (gamma)\n",
    "\n",
    "We've seen **ρ** already as the initial vapour density. The other parameters will be explained in the sub-steps which use them."
   ]
  },
  {
   "cell_type": "markdown",
   "metadata": {
    "slideshow": {
     "slide_type": "slide"
    }
   },
   "source": [
    "### Step 1 - Diffusion\n",
    "\n",
    "Replace the vapour mass in each site with the average of the vapour masses in that site and its 6 neighbours.\n",
    "\n",
    "This models the way that gasses - such as water vapour - move away from regions with high concentrations and towards regions with low concentrations until they becomes evenly distributed.\n",
    "\n",
    "The boundary of the crystal has a couple of special considerations:\n",
    "- The vapour never diffuses into the crystal\n",
    "- Any terms for neighbours in the crystal are replaced by the vapour mass for the site itself - *Reflecting boundary conditions*"
   ]
  },
  {
   "cell_type": "code",
   "execution_count": 7,
   "metadata": {
    "slideshow": {
     "slide_type": "subslide"
    }
   },
   "outputs": [],
   "source": [
    "diffusion_kernel = neighbourhood/7\n",
    "\n",
    "def diffusion(a, b, c, d, neighbours):\n",
    "    # The basic diffusion formula is a hexagonal box blur convolution.\n",
    "    # The boundary of the crystal has a couple of special considerations:\n",
    "    # - The vapour never diffuses into the crystal - This is handled by the\n",
    "    #   \"*np.invert(a)\" term\n",
    "    # - Any terms for neighbours in the crystal are replaced by the vapour mass\n",
    "    #   for the site itself - This is handled by the \" + neighbours*d/7\" term \n",
    "    d = convolve(d, diffusion_kernel)*np.invert(a) + neighbours*d/7\n",
    "    \n",
    "    return (a, b, c, d)\n"
   ]
  },
  {
   "cell_type": "markdown",
   "metadata": {
    "slideshow": {
     "slide_type": "slide"
    }
   },
   "source": [
    "### Step 2 - Freezing\n",
    "\n",
    "Proportion **κ** (kappa) of the vapour mass at each boundary site crystallises into solid mass. The remainder (proportion 1 − **κ**) condenses into liquid mass. This leaves no vapour mass at any boundary site.\n",
    "\n",
    "Note that while the paper describes this step as freezing, it actually models deposition (gas → solid) and condensation (gas → liquid) but not freezing (liquid → solid)."
   ]
  },
  {
   "cell_type": "code",
   "execution_count": 8,
   "metadata": {},
   "outputs": [],
   "source": [
    "def freezing(a, b, c, d, boundary, kappa):\n",
    "    # Proportion κ (kappa) of the vapour mass at each boundary site crystallises\n",
    "    # into solid mass. The remainder (proportion 1−κ) condenses into liquid mass\n",
    "    b += boundary * d * (1-kappa)\n",
    "    c += boundary * d * kappa\n",
    "    d -= boundary * d\n",
    "    \n",
    "    return (a, b, c, d)\n"
   ]
  },
  {
   "cell_type": "markdown",
   "metadata": {
    "slideshow": {
     "slide_type": "slide"
    }
   },
   "source": [
    "### Step 3 - Attachment\n",
    "\n",
    "This key step in the algorithm decides when a boundary site joins the snowflake crystal. The conditions under which a boundary site x attaches to the crystal depends the number of neighbours of x which are already attached.\n",
    "\n",
    "- A boundary site with 1 or 2 attached neighbours needs liquid mass at least **β** (beta) to join the crystal.\n",
    "- A boundary site with 3 attached neighbours joins the crystal if either\n",
    "    - it has liquid mass ≥ 1, or\n",
    "    - it has liquid mass ≥ **α** (alpha) and there is a total vapour mass < **θ** (theta) in its neighbourhood.\n",
    "- A boundary site with 4 or more attached neighbours joins the crystal automatically.\n",
    "\n",
    "Once a site becomes attached all of the liquid mass in that site freezes to ice."
   ]
  },
  {
   "cell_type": "code",
   "execution_count": 9,
   "metadata": {
    "slideshow": {
     "slide_type": "subslide"
    }
   },
   "outputs": [],
   "source": [
    "def attachment(a, b, c, d, neighbours, boundary, beta, alpha, theta):\n",
    "    # 3a - A boundary site with 1 or 2 attached neighbours needs boundary mass\n",
    "    #      at least β to join the crystal:\n",
    "    a |= ((neighbours == 1) | (neighbours == 2)) & (b >= beta)\n",
    "\n",
    "    # 3b - A boundary site with 3 attached neighbours joins the crystal if\n",
    "    #      it has boundary mass ≥ 1\n",
    "    a |= (neighbours == 3) & (b >= 1)\n",
    "    \n",
    "    #      or it has diffusive mass < θ in its neighbourhood and it has boundary\n",
    "    #      mass ≥ α:\n",
    "    nearby_diffusive_mass = convolve(d, neighbourhood)\n",
    "    a |= (neighbours == 3) & (b >= alpha) & (nearby_diffusive_mass < theta)\n",
    "\n",
    "    # 3c - Boundary sites with 4 or more attached neighbours join the crystal\n",
    "    #      automatically\n",
    "    a |= (neighbours >= 4)\n",
    "\n",
    "    # Once a site is attached, its boundary mass becomes crystal mass:\n",
    "    c += boundary*a*b\n",
    "    b -= boundary*a*b\n",
    "\n",
    "    return (a, b, c, d)\n"
   ]
  },
  {
   "cell_type": "markdown",
   "metadata": {
    "slideshow": {
     "slide_type": "slide"
    }
   },
   "source": [
    "### Step 4 - Melting\n",
    "\n",
    "Proportion **μ** (mu) of the liquid mass and proportion **γ** (gamma) of the solid mass at each boundary site become vapour.\n",
    "\n",
    "As with the freezing step this is badly named. There is no melting (solid → liquid) being modelled, only vaporisation (liquid → gas) and sublimation (solid → gas)."
   ]
  },
  {
   "cell_type": "code",
   "execution_count": 10,
   "metadata": {},
   "outputs": [],
   "source": [
    "def melting(a, b, c, d, boundary, mu, gamma):\n",
    "    # Proportion μ of the boundary mass and proportion γ of the crystal mass\n",
    "    # at each boundary site become diffusive mass. \n",
    "    d += boundary * (b*mu + c*gamma)\n",
    "    b -= boundary * b*mu\n",
    "    c -= boundary * c*gamma\n",
    "\n",
    "    return (a, b, c, d)\n"
   ]
  },
  {
   "cell_type": "markdown",
   "metadata": {
    "slideshow": {
     "slide_type": "slide"
    }
   },
   "source": [
    "## Putting it all together\n",
    "\n",
    "Lets create a `Snowflake` class to wrap the arrays (a, b, c, d), the params (rho, kappa, beta, alpha, theta, mu, gamma) and a few other bits and pieces into a single object.\n",
    "\n",
    "We'll give it the following API:\n",
    "- snowflake = Snowflake(size, rho, kappa, beta, alpha, theta, mu, gamma)\n",
    "- snowflake.run(generations)  \n",
    "- snowflake.run_with_feedback(generations, yield_every=1000)  \n",
    "- snowflake.save_to_file(file_path)  \n",
    "- snowflake = Snowflake.load_from_file(file_path)  \n"
   ]
  },
  {
   "cell_type": "code",
   "execution_count": 11,
   "metadata": {
    "slideshow": {
     "slide_type": "subslide"
    }
   },
   "outputs": [],
   "source": [
    "class Snowflake:\n",
    "    def __init__(self, size, rho, kappa, beta, alpha, theta, mu, gamma):\n",
    "        self.size = size\n",
    "        self.rho = rho\n",
    "        self.kappa = kappa\n",
    "        self.beta = beta\n",
    "        self.alpha = alpha\n",
    "        self.theta= theta\n",
    "        self.mu = mu\n",
    "        self.gamma = gamma\n",
    "        \n",
    "        (a,b,c,d) = initial_state(self.size, self.rho)\n",
    "        self.a = a\n",
    "        self.b = b\n",
    "        self.c = c\n",
    "        self.d = d\n",
    "        \n",
    "        self.generation = 0\n",
    "        \n",
    "    \n",
    "    def run_with_feedback(self, generations, yield_every=1000):\n",
    "        (a,b,c,d) = (self.a,self.b,self.c,self.d)\n",
    "        (boundary, neighbours) = get_boundary(a)\n",
    "\n",
    "        for x in range(1, generations+1):\n",
    "            (a,b,c,d) = diffusion(a, b, c, d, neighbours)\n",
    "            (a,b,c,d) = freezing(a, b, c, d, boundary, self.kappa)\n",
    "            (a,b,c,d) = attachment(a, b, c, d, neighbours, boundary, self.beta, self.alpha, self.theta)\n",
    "            # The attachment step changes `a` so we need to recalculate `boundary` and `neighbours`\n",
    "            (boundary, neighbours) = get_boundary(a)\n",
    "            (a,b,c,d) = melting(a, b, c, d, boundary, self.mu, self.gamma)\n",
    "            \n",
    "            (self.a,self.b,self.c,self.d) = (a,b,c,d)\n",
    "            self.generation += 1\n",
    "\n",
    "            if x%yield_every == 0:\n",
    "                yield self\n",
    "        if x%yield_every != 0:\n",
    "             yield self\n",
    "    \n",
    "    \n",
    "    def run(self, generations):\n",
    "        for _ in self.run_with_feedback(generations, yield_every=generations+1):\n",
    "            pass\n",
    "    \n",
    "    \n",
    "    def save_to_file(self, file_path):\n",
    "        params = dict(\n",
    "            size = self.size,\n",
    "            generations = self.generations,\n",
    "            rho = self.rho,\n",
    "            kappa = self.kappa,\n",
    "            beta = self.beta,\n",
    "            alpha = self.alpha,\n",
    "            theta= self.theta,\n",
    "            mu = self.mu,\n",
    "            gamma = self.gamma,\n",
    "            sigma = 0, # Currently unused\n",
    "        )\n",
    "        np.savez_compressed(file_path, a=self.a, b=self.b, c=self.c, d=self.d, params=params)\n",
    "        \n",
    "    \n",
    "    @classmethod\n",
    "    def load_from_file(self, file_path):\n",
    "        raise NotImplementedError()"
   ]
  },
  {
   "cell_type": "markdown",
   "metadata": {
    "slideshow": {
     "slide_type": "slide"
    }
   },
   "source": [
    "## Visualisation\n",
    "\n",
    "Rendering the snowflake as an image involves a few steps:\n",
    "1. Take the 4 arrays (a,b,c,d) and convert them into a single array containing one numeric value per site.\n",
    "    - The value is in the range (-1 ≤ v ≤ 1)\n",
    "    - Positive values mean inside the crystal (a=1). Larger numbers represent greater crystal mass (c)\n",
    "    - Negative values mean outside of the crystal (a=0). Larger numbers represent greater vapour mass (d)\n",
    "2. Affine transform that \"image\" to a hexagonal grid\n",
    "    - Sheer the vertical axis over 30 deg\n",
    "    - Squash vertically by a factor of √3/2\n",
    "    - Use bicubic interpolation to keep the transformed \"image\" smooth\n",
    "3. Plot that \"image\" as an actual image. Apply a colourmap to convert each value to a colour\n",
    "    - Positive values get shades of blue, larger values get darker blue\n",
    "    - Negative values get shades of grey, larger (more-negative) values get darker grey"
   ]
  },
  {
   "cell_type": "code",
   "execution_count": 74,
   "metadata": {
    "slideshow": {
     "slide_type": "subslide"
    }
   },
   "outputs": [],
   "source": [
    "sheer_30_degrees = np.matrix([[1, 0, 0], [-0.5, 1, 0], [0, 0, 1]])\n",
    "squash = np.matrix([[2/(3**0.5), 0, 0], [0, 1, 0], [0, 0, 1]])\n",
    "\n",
    "def get_image(snowflake):\n",
    "    # Merge vapour and ice fields into a single normalised value for each site which ranges from -1 to 1\n",
    "    # -1 = Not attached and vapour mass is maximum\n",
    "    # 0 = (Not attached and 0 vapour mass) or (attached and 0 ice mass)\n",
    "    # 1 = Attached and maximum ice mass\n",
    "\n",
    "    background = np.invert(snowflake.a) * snowflake.d/np.max(snowflake.d)\n",
    "    flake = snowflake.a * (snowflake.c/np.max(snowflake.c))\n",
    "    image = flake - background\n",
    "    print(f\"bg {background}       flake: {flake}          image: { image}\")\n",
    "\n",
    "    # Transform to hexagonal grid by sheering the vertical axis over 30 deg and then squashing vertically \n",
    "    translate_to_origin = np.matrix([[1, 0, snowflake.size/2], [0, 1, snowflake.size/2], [0, 0, 1]])\n",
    "    translate_to_centre = np.matrix([[1, 0, -snowflake.size/2], [0, 1, -snowflake.size/2], [0, 0, 1]])\n",
    "    convolution = translate_to_origin * sheer_30_degrees * squash * translate_to_centre\n",
    "    print(f\" convolution {convolution}\")\n",
    "    print(f\"affine transform {affine_transform(image,convolution, cval=-1)}\")\n",
    "    return affine_transform(image, convolution, cval=-1)\n"
   ]
  },
  {
   "cell_type": "code",
   "execution_count": 75,
   "metadata": {
    "slideshow": {
     "slide_type": "subslide"
    }
   },
   "outputs": [],
   "source": [
    "snowflake_colour_map = LinearSegmentedColormap(\n",
    "    \"\",\n",
    "    {'red':   ((0.0, 0.80, 0.80),\n",
    "               (0.5, 1.00, 0.80),\n",
    "               (1.0, 0.05, 0.05)),\n",
    "\n",
    "     'green': ((0.0, 0.80, 0.80),\n",
    "               (0.5, 1.00, 1.00),\n",
    "               (1.0, 0.15, 0.15)),\n",
    "\n",
    "     'blue':  ((0.0, 0.80, 0.80),\n",
    "               (0.5, 1.00, 1.00),\n",
    "               (1.0, 0.55, 0.55))\n",
    "    }\n",
    ")\n"
   ]
  },
  {
   "cell_type": "code",
   "execution_count": 141,
   "metadata": {
    "slideshow": {
     "slide_type": "subslide"
    }
   },
   "outputs": [],
   "source": [
    "def render_image(snowflake_image, size):\n",
    "    fig, ax = plt.subplots(1, 1, figsize=(size,size))\n",
    "    ax.imshow(snowflake_image, cmap=snowflake_colour_map)\n",
    "    ax.set_axis_off()\n",
    "    plt.savefig(\"snowflake.svg\", format=\"svg\")\n",
    "    plt.show()\n",
    "\n",
    "    \n",
    "def render(snowflake, size=12):\n",
    "    render_image(get_image(snowflake), size=size)\n"
   ]
  },
  {
   "cell_type": "markdown",
   "metadata": {
    "slideshow": {
     "slide_type": "skip"
    }
   },
   "source": [
    "## Debug Visualisation\n",
    "\n",
    "`render()` is good for creating a final image. But it's also useful to have lower level visualisation of what's going on inside the simulation. That's what `visualise()` provides. It compactly renders each of the four arrays (a,b,c,d) individually without applying any affine transformation.\n",
    "\n",
    "I recommend calling `visualise()` inside a `snowflake.run_with_feedback(...)` loop."
   ]
  },
  {
   "cell_type": "code",
   "execution_count": 15,
   "metadata": {
    "slideshow": {
     "slide_type": "-"
    }
   },
   "outputs": [],
   "source": [
    "def visualise(snowflake):\n",
    "    fig, axs = plt.subplots(ncols=4, sharey=True, figsize=(17,3))\n",
    "    axs[0].imshow(snowflake.d, origin='lower', clim=(0.0, 1.0))\n",
    "    axs[1].imshow(snowflake.b, origin='lower', clim=(0.0, 1.0))\n",
    "    axs[2].imshow(snowflake.c, origin='lower', clim=(0.0, 1.0))\n",
    "    i = axs[3].imshow(snowflake.a, origin='lower', clim=(0.0, 1.0))\n",
    "    axs[0].set_title(\"Vapour\")\n",
    "    axs[1].set_title(\"Water\")\n",
    "    axs[2].set_title(\"Ice\")\n",
    "    axs[3].set_title(\"Attachment\")\n",
    "    cb = fig.colorbar(i, ax=axs)\n",
    "    plt.show()\n"
   ]
  },
  {
   "cell_type": "code",
   "execution_count": 144,
   "metadata": {
    "slideshow": {
     "slide_type": "slide"
    }
   },
   "outputs": [
    {
     "name": "stdout",
     "output_type": "stream",
     "text": [
      "00:01:04 - Generation 1000\n",
      "00:02:07 - Generation 2000\n",
      "00:03:11 - Generation 3000\n",
      "00:04:16 - Generation 4000\n",
      "00:05:20 - Generation 5000\n"
     ]
    }
   ],
   "source": [
    "s = Snowflake(\n",
    "    size = 701,\n",
    "    rho = 0.635,\n",
    "    kappa = 0.05,\n",
    "    beta = 2.0,\n",
    "    alpha = 0.4,\n",
    "    theta= 0.025,\n",
    "    mu = 0.015,\n",
    "    gamma = 0.0005,\n",
    ")\n",
    "start = time.time()\n",
    "for progress in s.run_with_feedback(generations=5000, yield_every=1000):\n",
    "    timestamp = time.strftime(\"%H:%M:%S\", time.gmtime(time.time()-start))\n",
    "    print(f'{timestamp} - Generation {progress.generation}')\n"
   ]
  },
  {
   "cell_type": "code",
   "execution_count": 145,
   "metadata": {
    "slideshow": {
     "slide_type": "slide"
    }
   },
   "outputs": [
    {
     "name": "stdout",
     "output_type": "stream",
     "text": [
      "bg [[1. 1. 1. ... 1. 1. 1.]\n",
      " [1. 1. 1. ... 1. 1. 1.]\n",
      " [1. 1. 1. ... 1. 1. 1.]\n",
      " ...\n",
      " [1. 1. 1. ... 1. 1. 1.]\n",
      " [1. 1. 1. ... 1. 1. 1.]\n",
      " [1. 1. 1. ... 1. 1. 1.]]       flake: [[0. 0. 0. ... 0. 0. 0.]\n",
      " [0. 0. 0. ... 0. 0. 0.]\n",
      " [0. 0. 0. ... 0. 0. 0.]\n",
      " ...\n",
      " [0. 0. 0. ... 0. 0. 0.]\n",
      " [0. 0. 0. ... 0. 0. 0.]\n",
      " [0. 0. 0. ... 0. 0. 0.]]          image: [[-1. -1. -1. ... -1. -1. -1.]\n",
      " [-1. -1. -1. ... -1. -1. -1.]\n",
      " [-1. -1. -1. ... -1. -1. -1.]\n",
      " ...\n",
      " [-1. -1. -1. ... -1. -1. -1.]\n",
      " [-1. -1. -1. ... -1. -1. -1.]\n",
      " [-1. -1. -1. ... -1. -1. -1.]]\n",
      " convolution [[  1.15470054   0.         -54.2225387 ]\n",
      " [ -0.57735027   1.         202.36126935]\n",
      " [  0.           0.           1.        ]]\n",
      "affine transform [[-1. -1. -1. ... -1. -1. -1.]\n",
      " [-1. -1. -1. ... -1. -1. -1.]\n",
      " [-1. -1. -1. ... -1. -1. -1.]\n",
      " ...\n",
      " [-1. -1. -1. ... -1. -1. -1.]\n",
      " [-1. -1. -1. ... -1. -1. -1.]\n",
      " [-1. -1. -1. ... -1. -1. -1.]]\n"
     ]
    },
    {
     "data": {
      "image/png": "[encoded data removed]",
      "text/plain": [
       "<Figure size 1200x1200 with 1 Axes>"
      ]
     },
     "metadata": {},
     "output_type": "display_data"
    }
   ],
   "source": [
    "render(s)\n"
   ]
  },
  {
   "cell_type": "code",
   "execution_count": 92,
   "metadata": {},
   "outputs": [
    {
     "data": {
      "image/png": "[encoded data removed]",
      "text/plain": [
       "<Figure size 640x480 with 1 Axes>"
      ]
     },
     "metadata": {},
     "output_type": "display_data"
    }
   ],
   "source": [
    "import numpy as np\n",
    "\n",
    "# Define the size of the array\n",
    "size = 30\n",
    "\n",
    "# Create a 2D array filled with zeros\n",
    "array = np.zeros((size, size))\n",
    "\n",
    "# Define the size of the square\n",
    "square_size = 10\n",
    "\n",
    "# Define the center of the square\n",
    "center = size // 2\n",
    "\n",
    "# Set the values in the middle to 1, representing the square\n",
    "array[center-square_size//2:center+square_size//2, center-square_size//2:center+square_size//2] = 1\n",
    "\n",
    "plt.imshow(array, cmap='gray', interpolation='nearest')\n",
    "plt.show()"
   ]
  },
  {
   "cell_type": "code",
   "execution_count": 100,
   "metadata": {},
   "outputs": [
    {
     "data": {
      "image/png": "[encoded data removed]",
      "text/plain": [
       "<Figure size 640x480 with 1 Axes>"
      ]
     },
     "metadata": {},
     "output_type": "display_data"
    }
   ],
   "source": [
    "import vsketch\n",
    "\n",
    "vsk = vsketch.Vsketch()\n",
    "vsk.scale(50)\n",
    "# Draw the square\n",
    "\n",
    "# Define the size of the array and the center of the square\n",
    "size = 30\n",
    "h, k = size // 2, size // 2 # center of the square\n",
    "vsk.line(h - square_size//2, k - square_size//2, h + square_size//2, k - square_size//2)\n",
    "vsk.line(h + square_size//2, k - square_size//2, h + square_size//2, k + square_size//2)\n",
    "vsk.line(h + square_size//2, k + square_size//2, h - square_size//2, k + square_size//2)\n",
    "vsk.line(h - square_size//2, k + square_size//2, h - square_size//2, k - square_size//2)\n",
    "\n",
    "# display the sketch\n",
    "vsk.display()\n"
   ]
  },
  {
   "cell_type": "code",
   "execution_count": 140,
   "metadata": {},
   "outputs": [
    {
     "data": {
      "image/png": "[encoded data removed]",
      "text/plain": [
       "<Figure size 640x480 with 1 Axes>"
      ]
     },
     "metadata": {},
     "output_type": "display_data"
    }
   ],
   "source": []
  }
 ],
 "metadata": {
  "kernelspec": {
   "display_name": "Python 3",
   "language": "python",
   "name": "python3"
  },
  "language_info": {
   "codemirror_mode": {
    "name": "ipython",
    "version": 3
   },
   "file_extension": ".py",
   "mimetype": "text/x-python",
   "name": "python",
   "nbconvert_exporter": "python",
   "pygments_lexer": "ipython3",
   "version": "3.11.6"
  }
 },
 "nbformat": 4,
 "nbformat_minor": 2
}
