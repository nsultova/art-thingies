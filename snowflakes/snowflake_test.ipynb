{
 "cells": [
  {
   "cell_type": "code",
   "execution_count": 8,
   "metadata": {},
   "outputs": [],
   "source": [
    "import matplotlib.pyplot as plt\n",
    "import numpy as np\n",
    "import random"
   ]
  },
  {
   "cell_type": "code",
   "execution_count": 17,
   "metadata": {},
   "outputs": [],
   "source": [
    "class Snowflake:\n",
    "    # Sketch parameters:\n",
    "    sym_num = 6\n",
    "    variance_branching_angle = 1\n",
    "    radius = 200\n",
    "    stop_at_len = 2\n",
    "    branches = []\n",
    "    width = 800\n",
    "    height = 600\n",
    "\n",
    "#    def generate_branch(self, origin, length, angle, stop, var_angle):\n",
    "#        if length < self.stop_at_len:\n",
    "#            return []\n",
    "\n",
    "#        random_angle = np.random.uniform(-np.pi/self.variance_branching_angle, np.pi/self.variance_branching_angle)\n",
    "#        end = origin + np.array([length * np.cos(angle), length * np.sin(angle)])\n",
    "#        branch = [(origin, end)]\n",
    "\n",
    "#        branch.extend(self.generate_branch(origin, length/2, angle - random_angle, self.stop_at_len, self.variance_branching_angle))\n",
    "#        branch.extend(self.generate_branch(origin, length/2, angle + random_angle, self.stop_at_len, self.variance_branching_angle))\n",
    "\n",
    "#        return branch\n",
    "\n",
    "    def generate_branch(self, origin, length, angle):\n",
    "        if length < self.stop_at_len:\n",
    "            return\n",
    "        \n",
    "        branches = []\n",
    "        random_angle = random.uniform(0, np.pi/ self.variance_branching_angle)\n",
    "        origin_x, origin_y = origin\n",
    "        angle_rad = np.radians(angle)\n",
    "\n",
    "        self.generate_branch(np.array([0, 0]), length / 2, 0)\n",
    "        self.generate_branch(np.array([length, 0]), length / 2, 0)\n",
    "        self.generate_branch(np.array([length / 2, 0]), length / 2, -random_angle)\n",
    "        self.generate_branch(np.array([length / 2, 0]), length / 2, random_angle)\n",
    "\n",
    "        # Add the current branch to the branches array\n",
    "        branches.append(origin)\n",
    "        branches.append(np.array([length, 0]))\n",
    "        return branches\n",
    "\n",
    "\n",
    "    def generate_snowflake(self):\n",
    "        branches = []\n",
    "        for i in range(self.sym_num):\n",
    "            seed = random.uniform(0,255)    \n",
    "            branches.extend(self.generate_branch(np.array([self.width / 2, self.height / 2]), self.radius, (2 * np.pi / self.sym_num) * i))\n",
    "        \n",
    "        self.draw(branches)\n",
    "        return branches\n",
    "\n",
    "    #self.branches = [self.generate_branch(np.array([0,0]), self.radius, (2 * np.pi / self.symmetry_number) * i, self.stop_at_len, self.variance_branching_angle) for i in range(self.symmetry_number)]\n",
    "\n",
    "    def draw(self,branches):\n",
    "        #print(self.branches)\n",
    "        for branch in branches:\n",
    "            print(branch)\n",
    "            for origin, end in branch:\n",
    "                plt.plot([origin[0], end[0]], [origin[1], end[1]], color='black')\n",
    "\n",
    "        plt.axis('off')\n",
    "        plt.show()"
   ]
  },
  {
   "cell_type": "code",
   "execution_count": 18,
   "metadata": {},
   "outputs": [
    {
     "ename": "TypeError",
     "evalue": "Snowflake.draw() takes 1 positional argument but 2 were given",
     "output_type": "error",
     "traceback": [
      "\u001b[0;31m---------------------------------------------------------------------------\u001b[0m",
      "\u001b[0;31mTypeError\u001b[0m                                 Traceback (most recent call last)",
      "\u001b[1;32m/home/nea/Projects/art_thingies/snowflakes/snowflake_test.ipynb Cell 3\u001b[0m line \u001b[0;36m3\n\u001b[1;32m      <a href='vscode-notebook-cell:/home/nea/Projects/art_thingies/snowflakes/snowflake_test.ipynb#W2sZmlsZQ%3D%3D?line=0'>1</a>\u001b[0m \u001b[39mif\u001b[39;00m \u001b[39m__name__\u001b[39m \u001b[39m==\u001b[39m \u001b[39m\"\u001b[39m\u001b[39m__main__\u001b[39m\u001b[39m\"\u001b[39m:\n\u001b[1;32m      <a href='vscode-notebook-cell:/home/nea/Projects/art_thingies/snowflakes/snowflake_test.ipynb#W2sZmlsZQ%3D%3D?line=1'>2</a>\u001b[0m   sketch \u001b[39m=\u001b[39m Snowflake()\n\u001b[0;32m----> <a href='vscode-notebook-cell:/home/nea/Projects/art_thingies/snowflakes/snowflake_test.ipynb#W2sZmlsZQ%3D%3D?line=2'>3</a>\u001b[0m   sketch\u001b[39m.\u001b[39;49mgenerate_snowflake()\n",
      "\u001b[1;32m/home/nea/Projects/art_thingies/snowflakes/snowflake_test.ipynb Cell 3\u001b[0m line \u001b[0;36m5\n\u001b[1;32m     <a href='vscode-notebook-cell:/home/nea/Projects/art_thingies/snowflakes/snowflake_test.ipynb#W2sZmlsZQ%3D%3D?line=46'>47</a>\u001b[0m     seed \u001b[39m=\u001b[39m random\u001b[39m.\u001b[39muniform(\u001b[39m0\u001b[39m,\u001b[39m255\u001b[39m)    \n\u001b[1;32m     <a href='vscode-notebook-cell:/home/nea/Projects/art_thingies/snowflakes/snowflake_test.ipynb#W2sZmlsZQ%3D%3D?line=47'>48</a>\u001b[0m     branches\u001b[39m.\u001b[39mextend(\u001b[39mself\u001b[39m\u001b[39m.\u001b[39mgenerate_branch(np\u001b[39m.\u001b[39marray([\u001b[39mself\u001b[39m\u001b[39m.\u001b[39mwidth \u001b[39m/\u001b[39m \u001b[39m2\u001b[39m, \u001b[39mself\u001b[39m\u001b[39m.\u001b[39mheight \u001b[39m/\u001b[39m \u001b[39m2\u001b[39m]), \u001b[39mself\u001b[39m\u001b[39m.\u001b[39mradius, (\u001b[39m2\u001b[39m \u001b[39m*\u001b[39m np\u001b[39m.\u001b[39mpi \u001b[39m/\u001b[39m \u001b[39mself\u001b[39m\u001b[39m.\u001b[39msym_num) \u001b[39m*\u001b[39m i))\n\u001b[0;32m---> <a href='vscode-notebook-cell:/home/nea/Projects/art_thingies/snowflakes/snowflake_test.ipynb#W2sZmlsZQ%3D%3D?line=49'>50</a>\u001b[0m \u001b[39mself\u001b[39;49m\u001b[39m.\u001b[39;49mdraw(branches)\n\u001b[1;32m     <a href='vscode-notebook-cell:/home/nea/Projects/art_thingies/snowflakes/snowflake_test.ipynb#W2sZmlsZQ%3D%3D?line=50'>51</a>\u001b[0m \u001b[39mreturn\u001b[39;00m branches\n",
      "\u001b[0;31mTypeError\u001b[0m: Snowflake.draw() takes 1 positional argument but 2 were given"
     ]
    }
   ],
   "source": [
    "if __name__ == \"__main__\":\n",
    "  sketch = Snowflake()\n",
    "  sketch.generate_snowflake()\n"
   ]
  }
 ],
 "metadata": {
  "kernelspec": {
   "display_name": "art-thingies-9EnFxVh2-py3.11",
   "language": "python",
   "name": "python3"
  },
  "language_info": {
   "codemirror_mode": {
    "name": "ipython",
    "version": 3
   },
   "file_extension": ".py",
   "mimetype": "text/x-python",
   "name": "python",
   "nbconvert_exporter": "python",
   "pygments_lexer": "ipython3",
   "version": "3.11.6"
  }
 },
 "nbformat": 4,
 "nbformat_minor": 2
}
